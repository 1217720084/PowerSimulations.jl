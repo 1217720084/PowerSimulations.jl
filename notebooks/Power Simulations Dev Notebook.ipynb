{
 "cells": [
  {
   "cell_type": "code",
   "execution_count": 1,
   "metadata": {},
   "outputs": [
    {
     "name": "stderr",
     "output_type": "stream",
     "text": [
      "WARNING: Method definition ismultinetwork(Base.Dict{String, Any}) in module InfrastructureModels at /Users/jdlara/.julia/v0.6/InfrastructureModels/src/core/data.jl:33 overwritten in module PowerModels at /Users/jdlara/.julia/v0.6/PowerModels/src/core/data.jl:157.\n"
     ]
    }
   ],
   "source": [
    "using PowerSystems\n",
    "using BenchmarkTools\n",
    "cd(string(homedir(),\"/.julia/v0.6/PowerSystems/data\"))\n",
    "include(\"data_5bus.jl\");"
   ]
  },
  {
   "cell_type": "code",
   "execution_count": 2,
   "metadata": {},
   "outputs": [],
   "source": [
    "include(\"data_5bus.jl\");"
   ]
  },
  {
   "cell_type": "code",
   "execution_count": 3,
   "metadata": {},
   "outputs": [
    {
     "data": {
      "text/plain": [
       "Gurobi.GurobiSolver(nothing, Any[])"
      ]
     },
     "execution_count": 3,
     "metadata": {},
     "output_type": "execute_result"
    }
   ],
   "source": [
    "using JuMP\n",
    "using MathOptInterface\n",
    "const MOI = MathOptInterface\n",
    "const MOIU = MOI.Utilities\n",
    "using Gurobi\n",
    "solver = GurobiSolver()"
   ]
  },
  {
   "cell_type": "code",
   "execution_count": 6,
   "metadata": {},
   "outputs": [
    {
     "data": {
      "text/plain": [
       "1-dimensional JuMPArray{JuMP.VariableRef,1,...} with index sets:\n",
       "    Dimension 1, String[\"a\", \"b\"]\n",
       "And data, a 2-element Array{JuMP.VariableRef,1}:\n",
       " x[a]\n",
       " x[b]"
      ]
     },
     "execution_count": 6,
     "metadata": {},
     "output_type": "execute_result"
    }
   ],
   "source": [
    "m = Model()   \n",
    "@variable(m, x[[\"a\",\"b\"]])"
   ]
  },
  {
   "cell_type": "code",
   "execution_count": 9,
   "metadata": {},
   "outputs": [
    {
     "data": {
      "text/plain": [
       "2-element Array{String,1}:\n",
       " \"a\"\n",
       " \"b\""
      ]
     },
     "execution_count": 9,
     "metadata": {},
     "output_type": "execute_result"
    }
   ],
   "source": [
    "x.axes[1]"
   ]
  },
  {
   "cell_type": "code",
   "execution_count": null,
   "metadata": {},
   "outputs": [],
   "source": [
    "function GenerationVariables(m::JuMP.Model, generators::Array{T,1}, T) where T <: Thermal \n",
    "    g_on_set = [g.name for g in generators if g.available == true]\n",
    "    t = 1:T\n",
    "    @variable(m::JuMP.Model, P_g[g_on_set,t]) # Power output of generators\n",
    "    return true    \n",
    "end"
   ]
  },
  {
   "cell_type": "code",
   "execution_count": null,
   "metadata": {},
   "outputs": [],
   "source": [
    "function BranchFlowVariables(m::JuMP.Model, PowerSystem::PowerSystem)\n",
    "    br_on_set = [br.name for br in PowerSystem.network.branches if br.available == true]\n",
    "    t = 1:PowerSystem.timesteps\n",
    "    @variable(m, fbr[br_on_set,t])\n",
    "    return true   \n",
    "end"
   ]
  },
  {
   "cell_type": "code",
   "execution_count": null,
   "metadata": {},
   "outputs": [],
   "source": [
    "function ControlableLoadVariables(m::JuMP.Model, PowerSystem::PowerSystem)\n",
    "    cl_on_set = [cl.name for cl in PowerSystem.loads if (cl.available == true && !isa(cl,StaticLoad))]\n",
    "    t = 1:PowerSystem.timesteps\n",
    "    @variable(m, pcl[cl_on_set,t]) \n",
    "    return true              \n",
    "end"
   ]
  },
  {
   "cell_type": "code",
   "execution_count": null,
   "metadata": {},
   "outputs": [],
   "source": [
    "function StorageVariables(m::JuMP.Model, PowerSystem::PowerSystem)\n",
    "    cl_on_set = [cl.name for cl in PowerSystem.loads if (cl.available == true && typeof(cl) != StaticLoad)]\n",
    "    t = 1:PowerSystem.timesteps\n",
    "    @variable(m, pcl[cl_on_set,t]) \n",
    "    return true              \n",
    "end"
   ]
  },
  {
   "cell_type": "code",
   "execution_count": null,
   "metadata": {},
   "outputs": [],
   "source": [
    "sys5 = PowerSystem(nodes5, generators5, loads5_DA, branches5, 230.0, 1000.0);"
   ]
  },
  {
   "cell_type": "code",
   "execution_count": null,
   "metadata": {},
   "outputs": [],
   "source": [
    "sys5.generators"
   ]
  },
  {
   "cell_type": "code",
   "execution_count": null,
   "metadata": {},
   "outputs": [],
   "source": [
    "function GenerationVariables(m::JuMP.Model, generators::Array{D,1}, T::Int) where D <: Generator \n",
    "    g_on_set = [g.name for g in generators if g.available == true]\n",
    "    t = 1:T\n",
    "    @variable(m::JuMP.Model, pth[g_on_set,t]) # Power output of generators\n",
    "    return true    \n",
    "end"
   ]
  },
  {
   "cell_type": "code",
   "execution_count": null,
   "metadata": {},
   "outputs": [],
   "source": [
    "function PowerLimitConstraints(m::JuMP.Model, generators::Array{D,1}) where D <: Generator\n",
    "    sets = m[:pth].indexsets\n",
    "    \n",
    "    @constraintref Pmax[sets]\n",
    "    \n",
    "end    "
   ]
  },
  {
   "cell_type": "code",
   "execution_count": null,
   "metadata": {},
   "outputs": [],
   "source": [
    "m=Model()\n",
    "gens = sys5.generators[\"Thermal\"];"
   ]
  },
  {
   "cell_type": "code",
   "execution_count": null,
   "metadata": {},
   "outputs": [],
   "source": [
    "GenerationVariables(m, gens, 24)"
   ]
  },
  {
   "cell_type": "code",
   "execution_count": null,
   "metadata": {},
   "outputs": [],
   "source": [
    "sets = m[:pth].indexsets\n",
    "@constraintref Pmax[]"
   ]
  },
  {
   "cell_type": "code",
   "execution_count": null,
   "metadata": {},
   "outputs": [],
   "source": [
    "PowerLimitConstraints(m, gens)"
   ]
  },
  {
   "cell_type": "code",
   "execution_count": null,
   "metadata": {},
   "outputs": [],
   "source": [
    "@variable(m, x[[\"a\", \"b\"]])"
   ]
  },
  {
   "cell_type": "code",
   "execution_count": null,
   "metadata": {},
   "outputs": [],
   "source": [
    "s = x.indexsets"
   ]
  },
  {
   "cell_type": "code",
   "execution_count": null,
   "metadata": {},
   "outputs": [],
   "source": [
    "@macroexpand @constraintref foo10[1:length(s[1]), 1:length(s[2])]"
   ]
  },
  {
   "cell_type": "code",
   "execution_count": null,
   "metadata": {},
   "outputs": [],
   "source": [
    "typeof([1:10])"
   ]
  },
  {
   "cell_type": "code",
   "execution_count": null,
   "metadata": {},
   "outputs": [],
   "source": []
  }
 ],
 "metadata": {
  "kernelspec": {
   "display_name": "Julia 0.6.2",
   "language": "julia",
   "name": "julia-0.6"
  },
  "language_info": {
   "file_extension": ".jl",
   "mimetype": "application/julia",
   "name": "julia",
   "version": "0.6.2"
  }
 },
 "nbformat": 4,
 "nbformat_minor": 2
}
